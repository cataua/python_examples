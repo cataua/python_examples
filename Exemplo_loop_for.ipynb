{
  "nbformat": 4,
  "nbformat_minor": 0,
  "metadata": {
    "colab": {
      "name": "Exemplo_loop_for.ipynb",
      "provenance": [],
      "collapsed_sections": [],
      "authorship_tag": "ABX9TyOTAF6qykAvX4+px+VUC+N4",
      "include_colab_link": true
    },
    "kernelspec": {
      "name": "python3",
      "display_name": "Python 3"
    },
    "language_info": {
      "name": "python"
    }
  },
  "cells": [
    {
      "cell_type": "markdown",
      "metadata": {
        "id": "view-in-github",
        "colab_type": "text"
      },
      "source": [
        "<a href=\"https://colab.research.google.com/github/cataua/python_examples/blob/main/Exemplo_loop_for.ipynb\" target=\"_parent\"><img src=\"https://colab.research.google.com/assets/colab-badge.svg\" alt=\"Open In Colab\"/></a>"
      ]
    },
    {
      "cell_type": "code",
      "execution_count": 3,
      "metadata": {
        "colab": {
          "base_uri": "https://localhost:8080/"
        },
        "id": "w2vs6r3rrZH_",
        "outputId": "9ecf96b5-94a1-4753-af8a-cf2bab097ebc"
      },
      "outputs": [
        {
          "output_type": "stream",
          "name": "stdout",
          "text": [
            "Vogal 'A' encontrada, na posição 0\n",
            "Vogal 'a' encontrada, na posição 3\n",
            "Vogal 'a' encontrada, na posição 6\n",
            "Vogal 'o' encontrada, na posição 11\n",
            "Vogal 'a' encontrada, na posição 15\n",
            "Vogal 'a' encontrada, na posição 21\n",
            "Vogal 'a' encontrada, na posição 26\n",
            "Vogal 'a' encontrada, na posição 28\n",
            "Vogal 'o' encontrada, na posição 30\n",
            "Vogal 'a' encontrada, na posição 39\n",
            "Vogal 'o' encontrada, na posição 41\n",
            "Vogal 'a' encontrada, na posição 48\n",
            "Vogal 'a' encontrada, na posição 53\n",
            "Vogal 'a' encontrada, na posição 55\n",
            "Vogal 'a' encontrada, na posição 62\n",
            "Vogal 'a' encontrada, na posição 64\n",
            "Vogal 'o' encontrada, na posição 68\n",
            "Vogal 'a' encontrada, na posição 72\n",
            "Vogal 'a' encontrada, na posição 81\n",
            "Vogal 'a' encontrada, na posição 86\n",
            "Vogal 'a' encontrada, na posição 93\n",
            "Vogal 'a' encontrada, na posição 97\n",
            "Vogal 'o' encontrada, na posição 99\n",
            "Vogal 'a' encontrada, na posição 104\n",
            "Vogal 'a' encontrada, na posição 107\n",
            "Vogal 'a' encontrada, na posição 109\n",
            "Vogal 'a' encontrada, na posição 112\n",
            "Vogal 'a' encontrada, na posição 116\n",
            "Vogal 'a' encontrada, na posição 118\n",
            "Vogal 'a' encontrada, na posição 124\n",
            "Vogal 'a' encontrada, na posição 127\n",
            "Vogal 'o' encontrada, na posição 130\n",
            "Vogal 'a' encontrada, na posição 132\n",
            "Vogal 'a' encontrada, na posição 134\n",
            "Vogal 'o' encontrada, na posição 145\n",
            "Vogal 'a' encontrada, na posição 155\n",
            "Vogal 'o' encontrada, na posição 161\n",
            "Vogal 'a' encontrada, na posição 164\n",
            "Vogal 'o' encontrada, na posição 166\n",
            "Vogal 'a' encontrada, na posição 171\n",
            "Vogal 'o' encontrada, na posição 176\n",
            "Vogal 'o' encontrada, na posição 184\n",
            "Vogal 'a' encontrada, na posição 189\n",
            "Vogal 'a' encontrada, na posição 191\n",
            "Vogal 'o' encontrada, na posição 194\n",
            "Vogal 'a' encontrada, na posição 197\n",
            "Vogal 'a' encontrada, na posição 202\n",
            "Vogal 'a' encontrada, na posição 204\n",
            "Vogal 'o' encontrada, na posição 224\n",
            "Vogal 'a' encontrada, na posição 226\n",
            "Vogal 'a' encontrada, na posição 234\n",
            "Vogal 'a' encontrada, na posição 236\n",
            "Vogal 'o' encontrada, na posição 240\n",
            "Vogal 'o' encontrada, na posição 242\n",
            "Vogal 'o' encontrada, na posição 248\n",
            "Vogal 'a' encontrada, na posição 256\n",
            "Vogal 'o' encontrada, na posição 259\n",
            "Vogal 'a' encontrada, na posição 267\n",
            "Vogal 'a' encontrada, na posição 269\n"
          ]
        }
      ],
      "source": [
        "texto = \"As armas e os barões assinalados, Que da ocidental praia Lusitana, Por mares nunca de antes navegados, Passaram ainda além da Taprobana, Em perigos e guerras esforçados, Mais do que prometia a força humana, E entre gente remota edificaram Novo Reino, que tanto sublimaram;\" \n",
        "\n",
        "for i, c in enumerate(texto):\n",
        "  if c.upper() == 'A' or c.upper() == 'O':\n",
        "    print(f\"Vogal '{c}' encontrada, na posição {i}\")\n",
        "  else:\n",
        "    continue\n",
        "\n"
      ]
    },
    {
      "cell_type": "markdown",
      "source": [
        "# Nova seção"
      ],
      "metadata": {
        "id": "RKJqh8wusYFN"
      }
    }
  ]
}