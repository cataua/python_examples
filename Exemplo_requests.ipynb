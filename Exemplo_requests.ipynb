{
  "nbformat": 4,
  "nbformat_minor": 0,
  "metadata": {
    "colab": {
      "name": "Exemplo_requests.ipynb",
      "provenance": [],
      "authorship_tag": "ABX9TyMWbX1aA+OXOGFmbOsJz3f5",
      "include_colab_link": true
    },
    "kernelspec": {
      "name": "python3",
      "display_name": "Python 3"
    },
    "language_info": {
      "name": "python"
    }
  },
  "cells": [
    {
      "cell_type": "markdown",
      "metadata": {
        "id": "view-in-github",
        "colab_type": "text"
      },
      "source": [
        "<a href=\"https://colab.research.google.com/github/cataua/python_examples/blob/main/Exemplo_requests.ipynb\" target=\"_parent\"><img src=\"https://colab.research.google.com/assets/colab-badge.svg\" alt=\"Open In Colab\"/></a>"
      ]
    },
    {
      "cell_type": "code",
      "execution_count": null,
      "metadata": {
        "colab": {
          "base_uri": "https://localhost:8080/"
        },
        "id": "9ZHvKRQCyze9",
        "outputId": "fbb92023-fa5f-4379-aebe-0789cdd326ab"
      },
      "outputs": [
        {
          "output_type": "stream",
          "name": "stdout",
          "text": [
            "<class 'requests.models.Response'>\n",
            "<class 'str'>\n"
          ]
        }
      ],
      "source": [
        "import requests\n",
        "\n",
        "info = requests.get('https://uol.com.br')\n",
        "\n",
        "dados1 = info.text\n",
        "#dados2 = info.json()\n",
        "print(type(info))\n",
        "print(type(dados1))\n",
        "#print(type(dados2))"
      ]
    }
  ]
}